{
  "nbformat": 4,
  "nbformat_minor": 0,
  "metadata": {
    "colab": {
      "provenance": []
    },
    "kernelspec": {
      "name": "python3",
      "display_name": "Python 3"
    },
    "language_info": {
      "name": "python"
    }
  },
  "cells": [
    {
      "cell_type": "code",
      "execution_count": 1,
      "metadata": {
        "id": "iI2qX5t28ykw"
      },
      "outputs": [],
      "source": [
        "  #importing the numpy library\n",
        "import numpy as np"
      ]
    },
    {
      "cell_type": "code",
      "source": [
        "#Create an array with 10 equally spaced numbers between 0 and 1.\n",
        "\n",
        "array = np.linspace(0, 1, 10)\n",
        "\n",
        "print(array)"
      ],
      "metadata": {
        "id": "a_3serFvBR1O",
        "colab": {
          "base_uri": "https://localhost:8080/"
        },
        "outputId": "ab8bbde0-5762-4d33-80d6-3d1dd0b9e929"
      },
      "execution_count": 2,
      "outputs": [
        {
          "output_type": "stream",
          "name": "stdout",
          "text": [
            "[0.         0.11111111 0.22222222 0.33333333 0.44444444 0.55555556\n",
            " 0.66666667 0.77777778 0.88888889 1.        ]\n"
          ]
        }
      ]
    },
    {
      "cell_type": "code",
      "source": [
        "#Create a 1D array of 20 random integers between 1 and 100.\n",
        "\n",
        "array = np.random.randint(1, 101, 20)\n",
        "\n",
        "print(array)"
      ],
      "metadata": {
        "colab": {
          "base_uri": "https://localhost:8080/"
        },
        "id": "7JzBTyedQRCY",
        "outputId": "640df25e-9559-4a70-9f29-841df21f857b"
      },
      "execution_count": 3,
      "outputs": [
        {
          "output_type": "stream",
          "name": "stdout",
          "text": [
            "[67 98  4 20 97 46 58 67 55 45 93 68 50  7 33 92 77 31 45 92]\n"
          ]
        }
      ]
    },
    {
      "cell_type": "code",
      "source": [
        "#Create a 2D array with the shape (4, 4) filled with the value 7.\n",
        "\n",
        "array_2d = np.full((4, 4), 7)\n",
        "\n",
        "print(array_2d)"
      ],
      "metadata": {
        "colab": {
          "base_uri": "https://localhost:8080/"
        },
        "id": "WryOiKFDQ4Af",
        "outputId": "35afbd33-8efa-4506-d4c0-fd5d88592904"
      },
      "execution_count": 4,
      "outputs": [
        {
          "output_type": "stream",
          "name": "stdout",
          "text": [
            "[[7 7 7 7]\n",
            " [7 7 7 7]\n",
            " [7 7 7 7]\n",
            " [7 7 7 7]]\n"
          ]
        }
      ]
    },
    {
      "cell_type": "code",
      "source": [
        "#Create a 1D array of 10 elements with the same value, 3.14.\n",
        "\n",
        "array = np.full(10, 3.14)\n",
        "\n",
        "print(array)"
      ],
      "metadata": {
        "colab": {
          "base_uri": "https://localhost:8080/"
        },
        "id": "auF8RY8ZRJ8m",
        "outputId": "1e6dbfd1-f7f7-4d50-91d3-8df524e993ac"
      },
      "execution_count": 5,
      "outputs": [
        {
          "output_type": "stream",
          "name": "stdout",
          "text": [
            "[3.14 3.14 3.14 3.14 3.14 3.14 3.14 3.14 3.14 3.14]\n"
          ]
        }
      ]
    },
    {
      "cell_type": "code",
      "source": [
        "#Create a 2D array with the shape (3, 3) with values ranging from 1 to 9.\n",
        "\n",
        "# Create a 1D array with values ranging from 1 to 9\n",
        "array_1d = np.arange(1, 10)\n",
        "\n",
        "# Reshape the 1D array into a 2D array with shape (3, 3)\n",
        "array_2d = array_1d.reshape(3, 3)\n",
        "\n",
        "print(array_2d)"
      ],
      "metadata": {
        "colab": {
          "base_uri": "https://localhost:8080/"
        },
        "id": "bkw2gD1lRT7F",
        "outputId": "d493f18f-9ba1-4d96-e953-0f0a2888f3b8"
      },
      "execution_count": 6,
      "outputs": [
        {
          "output_type": "stream",
          "name": "stdout",
          "text": [
            "[[1 2 3]\n",
            " [4 5 6]\n",
            " [7 8 9]]\n"
          ]
        }
      ]
    },
    {
      "cell_type": "code",
      "source": [
        "#Create two arrays: a = [1, 3, 5, 7, 9] and b = [2, 4, 6, 8, 10]. Perform element-wise subtraction.\n",
        "\n",
        "import numpy as np\n",
        "\n",
        "a = np.array([1, 3, 5, 7, 9])\n",
        "b = np.array([2, 4, 6, 8, 10])\n",
        "\n",
        "subtraction = a - b\n",
        "\n",
        "print(subtraction)\n",
        "\n"
      ],
      "metadata": {
        "colab": {
          "base_uri": "https://localhost:8080/"
        },
        "id": "8gnWHlWTR03o",
        "outputId": "2394d7c5-2121-4e91-bc26-f41ba5461e6e"
      },
      "execution_count": 7,
      "outputs": [
        {
          "output_type": "stream",
          "name": "stdout",
          "text": [
            "[-1 -1 -1 -1 -1]\n"
          ]
        }
      ]
    },
    {
      "cell_type": "code",
      "source": [
        "#Multiply array a by 3: a = [2, 4, 6, 8].\n",
        "\n",
        "a = np.array([2, 4, 6, 8])\n",
        "\n",
        "result = a * 3\n",
        "\n",
        "print(\"Original array a:\", a)\n",
        "print(\"Result after multiplying by 3:\", result)"
      ],
      "metadata": {
        "colab": {
          "base_uri": "https://localhost:8080/"
        },
        "id": "Dpp2ux_9SWZ3",
        "outputId": "517539b2-69ec-48d7-c5ea-3f324f87e53b"
      },
      "execution_count": 8,
      "outputs": [
        {
          "output_type": "stream",
          "name": "stdout",
          "text": [
            "Original array a: [2 4 6 8]\n",
            "Result after multiplying by 3: [ 6 12 18 24]\n"
          ]
        }
      ]
    },
    {
      "cell_type": "code",
      "source": [
        "#Divide array a by 2: a = [10, 20, 30, 40].\n",
        "\n",
        "a = np.array([10, 20, 30, 40])\n",
        "\n",
        "\n",
        "result = a / 2\n",
        "\n",
        "print(\"Original array a:\", a)\n",
        "print(\"Result after dividing by 2:\", result)"
      ],
      "metadata": {
        "colab": {
          "base_uri": "https://localhost:8080/"
        },
        "id": "JnIw4SgCS0Pk",
        "outputId": "c78b6fce-11a6-43e6-af7b-ade4813a2233"
      },
      "execution_count": 9,
      "outputs": [
        {
          "output_type": "stream",
          "name": "stdout",
          "text": [
            "Original array a: [10 20 30 40]\n",
            "Result after dividing by 2: [ 5. 10. 15. 20.]\n"
          ]
        }
      ]
    },
    {
      "cell_type": "code",
      "source": [
        "#Find the element-wise modulus of two arrays: a = [5, 10, 15], b = [2, 3, 4].\n",
        "\n",
        "a = np.array([5, 10, 15])\n",
        "b = np.array([2, 3, 4])\n",
        "\n",
        "result = np.remainder(a, b)\n",
        "\n",
        "print(\"Array a:\", a)\n",
        "print(\"Array b:\", b)\n",
        "print(\"Element-wise modulus:\", result)"
      ],
      "metadata": {
        "colab": {
          "base_uri": "https://localhost:8080/"
        },
        "id": "vyay4p0yTEXa",
        "outputId": "352c5193-a778-4240-a2ff-ff1f930002ee"
      },
      "execution_count": 10,
      "outputs": [
        {
          "output_type": "stream",
          "name": "stdout",
          "text": [
            "Array a: [ 5 10 15]\n",
            "Array b: [2 3 4]\n",
            "Element-wise modulus: [1 1 3]\n"
          ]
        }
      ]
    },
    {
      "cell_type": "code",
      "source": [
        "#Create two arrays: a = [1, 2, 3], b = [4, 5, 6]. Compute the dot product.\n",
        "\n",
        "a = np.array([1, 2, 3])\n",
        "b = np.array([4, 5, 6])\n",
        "\n",
        "dot_product = np.dot(a, b)\n",
        "\n",
        "print(\"Array a:\", a)\n",
        "print(\"Array b:\", b)\n",
        "print(\"Dot product:\", dot_product)"
      ],
      "metadata": {
        "colab": {
          "base_uri": "https://localhost:8080/"
        },
        "id": "1_Bp4L2JTU5W",
        "outputId": "ee5b3ba6-30f0-4e22-d4bc-1aa3e8720375"
      },
      "execution_count": 11,
      "outputs": [
        {
          "output_type": "stream",
          "name": "stdout",
          "text": [
            "Array a: [1 2 3]\n",
            "Array b: [4 5 6]\n",
            "Dot product: 32\n"
          ]
        }
      ]
    },
    {
      "cell_type": "code",
      "source": [
        "#Create two matrices: a = [[2, 3], [4, 5]] and b = [[1, 0], [0, 1]]. Perform matrix multiplication.\n",
        "\n",
        "a = np.array([[2, 3], [4, 5]])\n",
        "b = np.array([[1, 0], [0, 1]])\n",
        "\n",
        "result = np.matmul(a, b)\n",
        "\n",
        "\n",
        "print(\"Matrix a:\\n\", a)\n",
        "print(\"Matrix b:\\n\", b)\n",
        "print(\"Result of matrix multiplication:\\n\", result)"
      ],
      "metadata": {
        "colab": {
          "base_uri": "https://localhost:8080/"
        },
        "id": "yV6-eoH8Tizf",
        "outputId": "400f619c-b3e6-4a51-8006-ae4954667822"
      },
      "execution_count": 12,
      "outputs": [
        {
          "output_type": "stream",
          "name": "stdout",
          "text": [
            "Matrix a:\n",
            " [[2 3]\n",
            " [4 5]]\n",
            "Matrix b:\n",
            " [[1 0]\n",
            " [0 1]]\n",
            "Result of matrix multiplication:\n",
            " [[2 3]\n",
            " [4 5]]\n"
          ]
        }
      ]
    },
    {
      "cell_type": "code",
      "source": [
        "#Multiply a 3x3 matrix with a 3x1 vector.\n",
        "\n",
        "matrix = np.array([[1, 2, 3],\n",
        "                   [4, 5, 6],\n",
        "                   [7, 8, 9]])\n",
        "\n",
        "vector = np.array([1, 2, 3])\n",
        "\n",
        "result = np.matmul(matrix, vector)\n",
        "\n",
        "print(\"Matrix:\\n\", matrix)\n",
        "print(\"Vector:\\n\", vector)\n",
        "print(\"Result of matrix-vector multiplication:\\n\", result)"
      ],
      "metadata": {
        "colab": {
          "base_uri": "https://localhost:8080/"
        },
        "id": "J6qukMEmUCL3",
        "outputId": "7686fe73-61bc-4ec5-88d8-ad22fc4f1fc4"
      },
      "execution_count": 13,
      "outputs": [
        {
          "output_type": "stream",
          "name": "stdout",
          "text": [
            "Matrix:\n",
            " [[1 2 3]\n",
            " [4 5 6]\n",
            " [7 8 9]]\n",
            "Vector:\n",
            " [1 2 3]\n",
            "Result of matrix-vector multiplication:\n",
            " [14 32 50]\n"
          ]
        }
      ]
    },
    {
      "cell_type": "code",
      "source": [
        "#Create a 4x4 identity matrix and multiply it by a 4x4 matrix filled with random integers.\n",
        "\n",
        "\n",
        "\n",
        "# Create a 4x4 identity matrix\n",
        "identity_matrix = np.eye(4)\n",
        "\n",
        "# Create a 4x4 matrix with random integers (between 0 and 9 for example)\n",
        "random_matrix = np.random.randint(0, 10, size=(4, 4))\n",
        "\n",
        "# Perform matrix multiplication\n",
        "result = np.matmul(identity_matrix, random_matrix)\n",
        "\n",
        "print(\"Identity Matrix:\\n\", identity_matrix)\n",
        "print(\"\\nRandom Matrix:\\n\", random_matrix)\n",
        "print(\"\\nResult of matrix multiplication:\\n\", result)\n"
      ],
      "metadata": {
        "colab": {
          "base_uri": "https://localhost:8080/"
        },
        "id": "npAOTWV-URhF",
        "outputId": "9c771718-82fb-4c55-cd2e-80c269f76ca7"
      },
      "execution_count": 14,
      "outputs": [
        {
          "output_type": "stream",
          "name": "stdout",
          "text": [
            "Identity Matrix:\n",
            " [[1. 0. 0. 0.]\n",
            " [0. 1. 0. 0.]\n",
            " [0. 0. 1. 0.]\n",
            " [0. 0. 0. 1.]]\n",
            "\n",
            "Random Matrix:\n",
            " [[0 3 2 6]\n",
            " [8 7 0 2]\n",
            " [9 7 0 6]\n",
            " [4 4 9 4]]\n",
            "\n",
            "Result of matrix multiplication:\n",
            " [[0. 3. 2. 6.]\n",
            " [8. 7. 0. 2.]\n",
            " [9. 7. 0. 6.]\n",
            " [4. 4. 9. 4.]]\n"
          ]
        }
      ]
    },
    {
      "cell_type": "code",
      "source": [
        "#Perform matrix multiplication on two 3x3 matrices: a = [[1, 2, 3], [4, 5, 6], [7, 8, 9]] and b = [[9, 8, 7], [6, 5, 4], [3, 2, 1]].\n",
        "\n",
        "a = np.array([[1, 2, 3],\n",
        "              [4, 5, 6],\n",
        "              [7, 8, 9]])\n",
        "\n",
        "b = np.array([[9, 8, 7],\n",
        "              [6, 5, 4],\n",
        "              [3, 2, 1]])\n",
        "\n",
        "result = np.matmul(a, b)\n",
        "\n",
        "print(\"Matrix a:\\n\", a)\n",
        "print(\"\\nMatrix b:\\n\", b)\n",
        "print(\"\\nResult of matrix multiplication:\\n\", result)"
      ],
      "metadata": {
        "colab": {
          "base_uri": "https://localhost:8080/"
        },
        "id": "l4mBV08zUnUT",
        "outputId": "a22db435-b7fb-4a3c-f275-c482edd97f0a"
      },
      "execution_count": 15,
      "outputs": [
        {
          "output_type": "stream",
          "name": "stdout",
          "text": [
            "Matrix a:\n",
            " [[1 2 3]\n",
            " [4 5 6]\n",
            " [7 8 9]]\n",
            "\n",
            "Matrix b:\n",
            " [[9 8 7]\n",
            " [6 5 4]\n",
            " [3 2 1]]\n",
            "\n",
            "Result of matrix multiplication:\n",
            " [[ 30  24  18]\n",
            " [ 84  69  54]\n",
            " [138 114  90]]\n"
          ]
        }
      ]
    },
    {
      "cell_type": "code",
      "source": [
        "#Create a 2x3 matrix and a 3x2 matrix. Perform matrix multiplication.\n",
        "\n",
        "matrix_a = np.array([[1, 2, 3],\n",
        "                     [4, 5, 6]])\n",
        "\n",
        "matrix_b = np.array([[7, 8],\n",
        "                     [9, 10],\n",
        "                     [11, 12]])\n",
        "\n",
        "result = np.matmul(matrix_a, matrix_b)\n",
        "\n",
        "print(\"Matrix a:\\n\", matrix_a)\n",
        "print(\"\\nMatrix b:\\n\", matrix_b)\n",
        "print(\"\\nResult of matrix multiplication:\\n\", result)"
      ],
      "metadata": {
        "colab": {
          "base_uri": "https://localhost:8080/"
        },
        "id": "i9tmbBdKU9p9",
        "outputId": "671adc3c-bc44-4d04-8fca-d8eb395ea4dd"
      },
      "execution_count": 16,
      "outputs": [
        {
          "output_type": "stream",
          "name": "stdout",
          "text": [
            "Matrix a:\n",
            " [[1 2 3]\n",
            " [4 5 6]]\n",
            "\n",
            "Matrix b:\n",
            " [[ 7  8]\n",
            " [ 9 10]\n",
            " [11 12]]\n",
            "\n",
            "Result of matrix multiplication:\n",
            " [[ 58  64]\n",
            " [139 154]]\n"
          ]
        }
      ]
    },
    {
      "cell_type": "code",
      "source": [
        "#Create a 1D array: array = [10, 20, 30]. Subtract a scalar value, 5, using broadcasting.\n",
        "\n",
        "array = np.array([10, 20, 30])\n",
        "\n",
        "\n",
        "result = array - 5\n",
        "\n",
        "print(result)"
      ],
      "metadata": {
        "id": "C7PIEp9EVJBr",
        "colab": {
          "base_uri": "https://localhost:8080/"
        },
        "outputId": "ac7311db-d151-48fa-9e97-def38dcd65f0"
      },
      "execution_count": 17,
      "outputs": [
        {
          "output_type": "stream",
          "name": "stdout",
          "text": [
            "[ 5 15 25]\n"
          ]
        }
      ]
    },
    {
      "cell_type": "code",
      "source": [
        "#Create a 3x3 array and a 3x1 array. Add them using broadcasting.\n",
        "\n",
        "array_3x3 = np.array([[1, 2, 3],\n",
        "                      [4, 5, 6],\n",
        "                      [7, 8, 9]])\n",
        "\n",
        "\n",
        "array_3x1 = np.array([[1],\n",
        "                      [2],\n",
        "                      [3]])\n",
        "\n",
        "\n",
        "result = array_3x3 + array_3x1\n",
        "\n",
        "print(result)"
      ],
      "metadata": {
        "colab": {
          "base_uri": "https://localhost:8080/"
        },
        "id": "THc1kFZ0xFpt",
        "outputId": "276535ec-7d3b-454e-dcc1-47db71136aeb"
      },
      "execution_count": 18,
      "outputs": [
        {
          "output_type": "stream",
          "name": "stdout",
          "text": [
            "[[ 2  3  4]\n",
            " [ 6  7  8]\n",
            " [10 11 12]]\n"
          ]
        }
      ]
    },
    {
      "cell_type": "code",
      "source": [
        "#Divide a 4x4 array by a scalar value, 2, using broadcasting.\n",
        "\n",
        "array_4x4 = np.array([[8, 16, 24, 32],\n",
        "                      [40, 48, 56, 64],\n",
        "                      [72, 80, 88, 96],\n",
        "                      [104, 112, 120, 128]])\n",
        "\n",
        "\n",
        "result = array_4x4 / 2\n",
        "\n",
        "print(result)"
      ],
      "metadata": {
        "colab": {
          "base_uri": "https://localhost:8080/"
        },
        "id": "5BzHiPPDxOYv",
        "outputId": "d3e7083e-2ad5-45c6-e6e4-95d98367990a"
      },
      "execution_count": 19,
      "outputs": [
        {
          "output_type": "stream",
          "name": "stdout",
          "text": [
            "[[ 4.  8. 12. 16.]\n",
            " [20. 24. 28. 32.]\n",
            " [36. 40. 44. 48.]\n",
            " [52. 56. 60. 64.]]\n"
          ]
        }
      ]
    },
    {
      "cell_type": "code",
      "source": [
        "#Create a 3x3 array and add 3 to each element using broadcasting.\n",
        "\n",
        "array_3x3 = np.array([[1, 2, 3],\n",
        "                      [4, 5, 6],\n",
        "                      [7, 8, 9]])\n",
        "\n",
        "result = array_3x3 + 3\n",
        "\n",
        "print(result)"
      ],
      "metadata": {
        "colab": {
          "base_uri": "https://localhost:8080/"
        },
        "id": "Ixy0wOpVxaIm",
        "outputId": "2484b1cc-8945-4c07-dd02-dfe84787a9c8"
      },
      "execution_count": 20,
      "outputs": [
        {
          "output_type": "stream",
          "name": "stdout",
          "text": [
            "[[ 4  5  6]\n",
            " [ 7  8  9]\n",
            " [10 11 12]]\n"
          ]
        }
      ]
    },
    {
      "cell_type": "code",
      "source": [
        "#Multiply a 1D array of shape (5,) by a 2D array of shape (5, 5) using broadcasting.\n",
        "\n",
        "array_1d = np.array([1, 2, 3, 4, 5])\n",
        "\n",
        "\n",
        "array_2d = np.array([[1, 2, 3, 4, 5],\n",
        "                     [6, 7, 8, 9, 10],\n",
        "                     [11, 12, 13, 14, 15],\n",
        "                     [16, 17, 18, 19, 20],\n",
        "                     [21, 22, 23, 24, 25]])\n",
        "\n",
        "\n",
        "result = array_2d * array_1d\n",
        "\n",
        "print(result)"
      ],
      "metadata": {
        "colab": {
          "base_uri": "https://localhost:8080/"
        },
        "id": "n6oQqEGLxm-l",
        "outputId": "79bd798a-4aa2-496b-fcbf-45129e984625"
      },
      "execution_count": 21,
      "outputs": [
        {
          "output_type": "stream",
          "name": "stdout",
          "text": [
            "[[  1   4   9  16  25]\n",
            " [  6  14  24  36  50]\n",
            " [ 11  24  39  56  75]\n",
            " [ 16  34  54  76 100]\n",
            " [ 21  44  69  96 125]]\n"
          ]
        }
      ]
    },
    {
      "cell_type": "code",
      "source": [
        "#Calculate the median of the array: data = [1, 2, 3, 4, 5, 6, 7, 8, 9, 10].\n",
        "\n",
        "data = np.array([1, 2, 3, 4, 5, 6, 7, 8, 9, 10])\n",
        "\n",
        "\n",
        "median_value = np.median(data)\n",
        "\n",
        "print(\"Median of the array:\", median_value)"
      ],
      "metadata": {
        "colab": {
          "base_uri": "https://localhost:8080/"
        },
        "id": "T3mQp1UYx16J",
        "outputId": "19166740-f110-4096-df9e-4b84ba555383"
      },
      "execution_count": 22,
      "outputs": [
        {
          "output_type": "stream",
          "name": "stdout",
          "text": [
            "Median of the array: 5.5\n"
          ]
        }
      ]
    },
    {
      "cell_type": "code",
      "source": [
        "#Calculate the mode of the array: data = [1, 2, 2, 3, 4, 4, 4, 5, 6].\n",
        "\n",
        "\n",
        "\n",
        "# Create the data array\n",
        "data = np.array([1, 2, 2, 3, 4, 4, 4, 5, 6])\n",
        "\n",
        "# Calculate the mode using np.argmax\n",
        "# Find the most frequent value's index\n",
        "most_frequent_idx = np.argmax(np.bincount(data))\n",
        "\n",
        "# Get the mode value from the data array\n",
        "mode = data[most_frequent_idx]\n",
        "\n",
        "# Print the mode\n",
        "print(mode)\n"
      ],
      "metadata": {
        "colab": {
          "base_uri": "https://localhost:8080/"
        },
        "id": "soTHOVoyyDic",
        "outputId": "35749fae-a7d0-447f-cc62-24961a110b98"
      },
      "execution_count": 23,
      "outputs": [
        {
          "output_type": "stream",
          "name": "stdout",
          "text": [
            "4\n"
          ]
        }
      ]
    },
    {
      "cell_type": "code",
      "source": [
        "#Calculate the range of the array: data = [10, 20, 30, 40, 50].\n",
        "\n",
        "data = np.array([10, 20, 30, 40, 50])\n",
        "\n",
        "# Calculate the range\n",
        "range_value = np.max(data) - np.min(data)\n",
        "\n",
        "print(\"Range of the array:\", range_value)"
      ],
      "metadata": {
        "colab": {
          "base_uri": "https://localhost:8080/"
        },
        "id": "xWuxc-USyNt6",
        "outputId": "5034e8b2-bac1-4d53-80ce-4819cf3e6efd"
      },
      "execution_count": 24,
      "outputs": [
        {
          "output_type": "stream",
          "name": "stdout",
          "text": [
            "Range of the array: 40\n"
          ]
        }
      ]
    },
    {
      "cell_type": "code",
      "source": [
        "#Calculate the 25th percentile of the array: data = [1, 2, 3, 4, 5, 6, 7, 8, 9, 10].\n",
        "\n",
        "data = np.array([1, 2, 3, 4, 5, 6, 7, 8, 9, 10])\n",
        "\n",
        "# Calculate the 25th percentile\n",
        "percentile_25 = np.percentile(data, 25)\n",
        "\n",
        "print(\"25th percentile of the array:\", percentile_25)"
      ],
      "metadata": {
        "colab": {
          "base_uri": "https://localhost:8080/"
        },
        "id": "wC7937HSzYFY",
        "outputId": "cac9d737-b462-4e2c-9b3b-da58dbaba49c"
      },
      "execution_count": 25,
      "outputs": [
        {
          "output_type": "stream",
          "name": "stdout",
          "text": [
            "25th percentile of the array: 3.25\n"
          ]
        }
      ]
    },
    {
      "cell_type": "code",
      "source": [
        "#Calculate the correlation coefficient between two arrays: a = [1, 2, 3, 4, 5] and b = [2, 4, 6, 8, 10].\n",
        "\n",
        "a = np.array([1, 2, 3, 4, 5])\n",
        "b = np.array([2, 4, 6, 8, 10])\n",
        "\n",
        "\n",
        "correlation_matrix = np.corrcoef(a, b)\n",
        "correlation_coefficient = correlation_matrix[0, 1]\n",
        "\n",
        "print(\"Correlation coefficient between arrays a and b:\", correlation_coefficient)"
      ],
      "metadata": {
        "colab": {
          "base_uri": "https://localhost:8080/"
        },
        "id": "F8OaNff7zt3x",
        "outputId": "60c125d5-0c2d-4e4c-a071-e177f8b24a70"
      },
      "execution_count": 26,
      "outputs": [
        {
          "output_type": "stream",
          "name": "stdout",
          "text": [
            "Correlation coefficient between arrays a and b: 0.9999999999999999\n"
          ]
        }
      ]
    },
    {
      "cell_type": "code",
      "source": [
        "#Reshape a 1D array of 12 elements to a 3x4 array.\n",
        "\n",
        "array_1d = np.arange(12)  # Example array: [0, 1, 2, 3, 4, 5, 6, 7, 8, 9, 10, 11]\n",
        "\n",
        "\n",
        "array_2d = array_1d.reshape(3, 4)\n",
        "\n",
        "print(\"3x4 array:\\n\", array_2d)"
      ],
      "metadata": {
        "colab": {
          "base_uri": "https://localhost:8080/"
        },
        "id": "6xwd_EU2z7SD",
        "outputId": "0044630a-372d-4699-e130-3d5d75bae594"
      },
      "execution_count": 27,
      "outputs": [
        {
          "output_type": "stream",
          "name": "stdout",
          "text": [
            "3x4 array:\n",
            " [[ 0  1  2  3]\n",
            " [ 4  5  6  7]\n",
            " [ 8  9 10 11]]\n"
          ]
        }
      ]
    },
    {
      "cell_type": "code",
      "source": [
        "#Reshape a 2D array of shape (6, 2) to (3, 4).\n",
        "\n",
        "\n",
        "array_2d_6x2 = np.arange(12).reshape(6, 2)  # Example array: [[0, 1], [2, 3], [4, 5], [6, 7], [8, 9], [10, 11]]\n",
        "\n",
        "# Reshape the 2D array to (3, 4)\n",
        "array_reshaped = array_2d_6x2.reshape(3, 4)\n",
        "\n",
        "print(\"Reshaped array (3x4):\\n\", array_reshaped)"
      ],
      "metadata": {
        "colab": {
          "base_uri": "https://localhost:8080/"
        },
        "id": "SkdP4WYQ0ZZ_",
        "outputId": "cfc387c5-f104-4861-861f-0880496c3402"
      },
      "execution_count": 28,
      "outputs": [
        {
          "output_type": "stream",
          "name": "stdout",
          "text": [
            "Reshaped array (3x4):\n",
            " [[ 0  1  2  3]\n",
            " [ 4  5  6  7]\n",
            " [ 8  9 10 11]]\n"
          ]
        }
      ]
    },
    {
      "cell_type": "code",
      "source": [
        "#Create a 4x4 array and flatten it.\n",
        "\n",
        "array_4x4 = np.arange(16).reshape(4, 4)  # Example array: [[0, 1, 2, 3], [4, 5, 6, 7], [8, 9, 10, 11], [12, 13, 14, 15]]\n",
        "\n",
        "flattened_array = array_4x4.flatten()\n",
        "\n",
        "print(\"Flattened array:\\n\", flattened_array)"
      ],
      "metadata": {
        "colab": {
          "base_uri": "https://localhost:8080/"
        },
        "id": "aHxMnBYm0kRk",
        "outputId": "5762a822-3785-447f-83b0-0b1b8bef0192"
      },
      "execution_count": 29,
      "outputs": [
        {
          "output_type": "stream",
          "name": "stdout",
          "text": [
            "Flattened array:\n",
            " [ 0  1  2  3  4  5  6  7  8  9 10 11 12 13 14 15]\n"
          ]
        }
      ]
    },
    {
      "cell_type": "code",
      "source": [
        "#Reshape a 3D array of shape (2, 3, 4) to (4, 3, 2).\n",
        "\n",
        "array_3d = np.arange(24).reshape(2, 3, 4)  # Example array with shape (2, 3, 4)\n",
        "\n",
        "# Reshape the 3D array to (4, 3, 2)\n",
        "reshaped_array = array_3d.reshape(4, 3, 2)\n",
        "\n",
        "print(\"Reshaped array (4, 3, 2):\\n\", reshaped_array)\n"
      ],
      "metadata": {
        "colab": {
          "base_uri": "https://localhost:8080/"
        },
        "id": "-ZylZ9Si0sRr",
        "outputId": "6c3e8ca8-eac9-4d31-b3dc-ef3f83745ce2"
      },
      "execution_count": 30,
      "outputs": [
        {
          "output_type": "stream",
          "name": "stdout",
          "text": [
            "Reshaped array (4, 3, 2):\n",
            " [[[ 0  1]\n",
            "  [ 2  3]\n",
            "  [ 4  5]]\n",
            "\n",
            " [[ 6  7]\n",
            "  [ 8  9]\n",
            "  [10 11]]\n",
            "\n",
            " [[12 13]\n",
            "  [14 15]\n",
            "  [16 17]]\n",
            "\n",
            " [[18 19]\n",
            "  [20 21]\n",
            "  [22 23]]]\n"
          ]
        }
      ]
    },
    {
      "cell_type": "code",
      "source": [
        "#Reshape a 1D array to a 2D array with 1 row and many columns.\n",
        "\n",
        "array_1d = np.arange(10)  # Example array: [0, 1, 2, 3, 4, 5, 6, 7, 8, 9]\n",
        "\n",
        "\n",
        "array_2d = array_1d.reshape(1, -1)\n",
        "\n",
        "print(\"2D array with 1 row and many columns:\\n\", array_2d)"
      ],
      "metadata": {
        "colab": {
          "base_uri": "https://localhost:8080/"
        },
        "id": "u1cpzuIY07Bk",
        "outputId": "3c745e46-76c0-4ad8-ad9d-781358fed443"
      },
      "execution_count": 31,
      "outputs": [
        {
          "output_type": "stream",
          "name": "stdout",
          "text": [
            "2D array with 1 row and many columns:\n",
            " [[0 1 2 3 4 5 6 7 8 9]]\n"
          ]
        }
      ]
    },
    {
      "cell_type": "code",
      "source": [
        "#Create two arrays: a = [1, 3, 5] and b = [2, 4, 6]. Perform element-wise division.\n",
        "\n",
        "a = np.array([1, 3, 5])\n",
        "b = np.array([2, 4, 6])\n",
        "\n",
        "# Perform element-wise division\n",
        "result = a / b\n",
        "\n",
        "print(\"Element-wise division result:\\n\", result)"
      ],
      "metadata": {
        "colab": {
          "base_uri": "https://localhost:8080/"
        },
        "id": "0KqP9o-G1J37",
        "outputId": "f1842174-3ed6-4f45-eefc-eb87f5aaf97a"
      },
      "execution_count": 32,
      "outputs": [
        {
          "output_type": "stream",
          "name": "stdout",
          "text": [
            "Element-wise division result:\n",
            " [0.5        0.75       0.83333333]\n"
          ]
        }
      ]
    },
    {
      "cell_type": "code",
      "source": [
        "#Create two arrays: a = [2, 4, 6] and b = [1, 3, 5]. Perform element-wise modulus.\n",
        "\n",
        "a = np.array([2, 4, 6])\n",
        "b = np.array([1, 3, 5])\n",
        "\n",
        "# Perform element-wise modulus\n",
        "result = a % b\n",
        "\n",
        "print(\"Element-wise modulus result:\\n\", result)"
      ],
      "metadata": {
        "colab": {
          "base_uri": "https://localhost:8080/"
        },
        "id": "exgK1t2K1p9y",
        "outputId": "b7260f2f-fd72-4719-d576-2d94b8a91229"
      },
      "execution_count": 33,
      "outputs": [
        {
          "output_type": "stream",
          "name": "stdout",
          "text": [
            "Element-wise modulus result:\n",
            " [0 1 1]\n"
          ]
        }
      ]
    },
    {
      "cell_type": "code",
      "source": [
        "#Add 10 to each element in the array: a = [1, 2, 3, 4, 5].\n",
        "\n",
        "a = np.array([1, 2, 3, 4, 5])\n",
        "\n",
        "# Add 10 to each element\n",
        "result = a + 10\n",
        "\n",
        "print(\"Array after adding 10:\\n\", result)\n"
      ],
      "metadata": {
        "colab": {
          "base_uri": "https://localhost:8080/"
        },
        "id": "q4EYbo4R1w82",
        "outputId": "05c67c57-f09f-491c-cffd-1ecf14ccede1"
      },
      "execution_count": 34,
      "outputs": [
        {
          "output_type": "stream",
          "name": "stdout",
          "text": [
            "Array after adding 10:\n",
            " [11 12 13 14 15]\n"
          ]
        }
      ]
    },
    {
      "cell_type": "code",
      "source": [
        "#Subtract 5 from each element in the array: b = [10, 20, 30, 40, 50].\n",
        "\n",
        "b = np.array([10, 20, 30, 40, 50])\n",
        "\n",
        "# Subtract 5 from each element\n",
        "result = b - 5\n",
        "\n",
        "print(\"Array after subtracting 5:\\n\", result)\n"
      ],
      "metadata": {
        "colab": {
          "base_uri": "https://localhost:8080/"
        },
        "id": "oJBiIE-a148c",
        "outputId": "8387e9bf-824a-4ee6-cb4d-61c7b3f467a1"
      },
      "execution_count": 35,
      "outputs": [
        {
          "output_type": "stream",
          "name": "stdout",
          "text": [
            "Array after subtracting 5:\n",
            " [ 5 15 25 35 45]\n"
          ]
        }
      ]
    },
    {
      "cell_type": "code",
      "source": [
        "#Square each element in the array: c = [1, 2, 3, 4, 5].\n",
        "\n",
        "c = np.array([1, 2, 3, 4, 5])\n",
        "\n",
        "# Square each element\n",
        "squared_result = c ** 2\n",
        "\n",
        "print(\"Array after squaring each element:\\n\", squared_result)\n"
      ],
      "metadata": {
        "id": "W3T3mCBn2Ao4",
        "outputId": "4dcfe5a8-b8e9-485b-8dd7-b3deeaa8d690",
        "colab": {
          "base_uri": "https://localhost:8080/"
        }
      },
      "execution_count": 36,
      "outputs": [
        {
          "output_type": "stream",
          "name": "stdout",
          "text": [
            "Array after squaring each element:\n",
            " [ 1  4  9 16 25]\n"
          ]
        }
      ]
    },
    {
      "cell_type": "code",
      "source": [
        "#Create a 3D array: array_3d = [[[1, 2, 3], [4, 5, 6]], [[7, 8, 9], [10, 11, 12]]]. Access the element at [1, 1, 1].\n",
        "\n",
        "array_3d = np.array([[[1, 2, 3], [4, 5, 6]],\n",
        "                     [[7, 8, 9], [10, 11, 12]]])\n",
        "\n",
        "element = array_3d[1, 1, 1]\n",
        "\n",
        "print(\"Element at [1, 1, 1]:\", element)"
      ],
      "metadata": {
        "id": "segKFI8q2F0O",
        "colab": {
          "base_uri": "https://localhost:8080/"
        },
        "outputId": "83764250-8838-4920-a368-95c6b359d67f"
      },
      "execution_count": 37,
      "outputs": [
        {
          "output_type": "stream",
          "name": "stdout",
          "text": [
            "Element at [1, 1, 1]: 11\n"
          ]
        }
      ]
    },
    {
      "cell_type": "code",
      "source": [
        "#Slice the first layer of a 3D array: array_3d = [[[1, 2, 3], [4, 5, 6]], [[7, 8, 9], [10, 11, 12]]].\n",
        "\n",
        "array_3d = np.array([[[1, 2, 3], [4, 5, 6]],\n",
        "                     [[7, 8, 9], [10, 11, 12]]])\n",
        "\n",
        "first_layer = array_3d[0]\n",
        "\n",
        "print(\"First layer of the 3D array:\\n\", first_layer)\n"
      ],
      "metadata": {
        "colab": {
          "base_uri": "https://localhost:8080/"
        },
        "id": "yMZQ7nxX8Zzp",
        "outputId": "bcce1ca4-992f-44b8-9136-74ee3bb80187"
      },
      "execution_count": 38,
      "outputs": [
        {
          "output_type": "stream",
          "name": "stdout",
          "text": [
            "First layer of the 3D array:\n",
            " [[1 2 3]\n",
            " [4 5 6]]\n"
          ]
        }
      ]
    },
    {
      "cell_type": "code",
      "source": [
        "#Access all elements in the last row of the array: array_2d = [[10, 20, 30], [40, 50, 60], [70, 80, 90]].\n",
        "\n",
        "array_2d = np.array([[10, 20, 30], [40, 50, 60], [70, 80, 90]])\n",
        "\n",
        "last_row = array_2d[-1]\n",
        "\n",
        "print(\"Elements in the last row:\\n\", last_row)"
      ],
      "metadata": {
        "colab": {
          "base_uri": "https://localhost:8080/"
        },
        "id": "gtJyMKMa8qMl",
        "outputId": "0d65d115-411e-4c63-cbb6-740c11e28909"
      },
      "execution_count": 39,
      "outputs": [
        {
          "output_type": "stream",
          "name": "stdout",
          "text": [
            "Elements in the last row:\n",
            " [70 80 90]\n"
          ]
        }
      ]
    },
    {
      "cell_type": "code",
      "source": [
        "#Access all elements in the first column of the array: array_2d = [[10, 20, 30], [40, 50, 60], [70, 80, 90]].\n",
        "\n",
        "array_2d = np.array([[10, 20, 30], [40, 50, 60], [70, 80, 90]])\n",
        "\n",
        "first_column = array_2d[:, 0]\n",
        "\n",
        "print(\"Elements in the first column:\\n\", first_column)"
      ],
      "metadata": {
        "colab": {
          "base_uri": "https://localhost:8080/"
        },
        "id": "N5Ms5gxj87TH",
        "outputId": "59cc2f2c-d5d2-4bed-f332-b562b63258c0"
      },
      "execution_count": 40,
      "outputs": [
        {
          "output_type": "stream",
          "name": "stdout",
          "text": [
            "Elements in the first column:\n",
            " [10 40 70]\n"
          ]
        }
      ]
    },
    {
      "cell_type": "code",
      "source": [
        "#Slice the last two rows and columns of the array: array_2d = [[10, 20, 30], [40, 50, 60], [70, 80, 90]].\n",
        "\n",
        "array_2d = np.array([[10, 20, 30], [40, 50, 60], [70, 80, 90]])\n",
        "\n",
        "sliced_array = array_2d[-2:, -2:]\n",
        "\n",
        "print(\"Last two rows and columns:\\n\", sliced_array)"
      ],
      "metadata": {
        "colab": {
          "base_uri": "https://localhost:8080/"
        },
        "id": "5aYHkpDM9HdB",
        "outputId": "3172fbcd-0611-4621-86cf-447b996f51c1"
      },
      "execution_count": 41,
      "outputs": [
        {
          "output_type": "stream",
          "name": "stdout",
          "text": [
            "Last two rows and columns:\n",
            " [[50 60]\n",
            " [80 90]]\n"
          ]
        }
      ]
    },
    {
      "cell_type": "code",
      "source": [
        "#Generate a random array of 20 elements with values between 0 and 1.\n",
        "\n",
        "random_array = np.random.rand(20)\n",
        "\n",
        "print(\"Random array of 20 elements with values between 0 and 1:\\n\", random_array)"
      ],
      "metadata": {
        "colab": {
          "base_uri": "https://localhost:8080/"
        },
        "id": "IA71ZXBr9VXb",
        "outputId": "81ea796b-5676-4469-844c-c704246cdfc2"
      },
      "execution_count": 42,
      "outputs": [
        {
          "output_type": "stream",
          "name": "stdout",
          "text": [
            "Random array of 20 elements with values between 0 and 1:\n",
            " [0.77282924 0.77280616 0.1336177  0.20236563 0.86193466 0.44255639\n",
            " 0.69957521 0.49261657 0.99415321 0.6565074  0.54257799 0.27741225\n",
            " 0.3415596  0.24689842 0.24153317 0.16678676 0.79677565 0.68485616\n",
            " 0.0731861  0.59405285]\n"
          ]
        }
      ]
    },
    {
      "cell_type": "code",
      "source": [
        "#Create a 4x4 array with random integers between 10 and 20.\n",
        "\n",
        "random_array = np.random.randint(10, 20, size=(4, 4))\n",
        "\n",
        "print(\"4x4 array with random integers between 10 and 20:\\n\", random_array)"
      ],
      "metadata": {
        "colab": {
          "base_uri": "https://localhost:8080/"
        },
        "id": "zxjgRvFL9eSa",
        "outputId": "a9f2d6ae-8e0c-4bb9-a58d-fa50f74246f2"
      },
      "execution_count": 43,
      "outputs": [
        {
          "output_type": "stream",
          "name": "stdout",
          "text": [
            "4x4 array with random integers between 10 and 20:\n",
            " [[16 10 10 19]\n",
            " [12 16 12 19]\n",
            " [14 15 17 11]\n",
            " [10 16 16 14]]\n"
          ]
        }
      ]
    },
    {
      "cell_type": "code",
      "source": [
        "#Create a 3x3 array with random floats between -1 and 1.\n",
        "\n",
        "\n",
        "random_array = np.random.uniform(-1, 1, size=(3, 3))\n",
        "\n",
        "print(\"3x3 array with random floats between -1 and 1:\\n\", random_array)"
      ],
      "metadata": {
        "colab": {
          "base_uri": "https://localhost:8080/"
        },
        "id": "Zuvdyn7z9oAI",
        "outputId": "78097b11-1134-4c4b-8969-70fb7406b971"
      },
      "execution_count": 44,
      "outputs": [
        {
          "output_type": "stream",
          "name": "stdout",
          "text": [
            "3x3 array with random floats between -1 and 1:\n",
            " [[-0.98261225  0.90021921  0.41480684]\n",
            " [-0.43641202  0.05303547  0.04925278]\n",
            " [-0.71638072  0.01267401  0.67663089]]\n"
          ]
        }
      ]
    },
    {
      "cell_type": "code",
      "source": [
        "#Generate an array of 15 random integers between 100 and 200.\n",
        "\n",
        "random_array = np.random.randint(100, 200, size=15)\n",
        "\n",
        "print(\"Array of 15 random integers between 100 and 200:\\n\", random_array)"
      ],
      "metadata": {
        "colab": {
          "base_uri": "https://localhost:8080/"
        },
        "id": "-5a0T-tg9x3w",
        "outputId": "a44c32bd-75e4-47c1-a1ef-271b4c303108"
      },
      "execution_count": 45,
      "outputs": [
        {
          "output_type": "stream",
          "name": "stdout",
          "text": [
            "Array of 15 random integers between 100 and 200:\n",
            " [182 188 132 162 128 189 114 133 133 130 176 194 150 145 181]\n"
          ]
        }
      ]
    },
    {
      "cell_type": "code",
      "source": [
        "#5. Create a 5x5 array with random floats between 0 and 10.\n",
        "\n",
        "random_array = np.random.uniform(0, 10, size=(5, 5))\n",
        "\n",
        "print(\"5x5 array with random floats between 0 and 10:\\n\", random_array)"
      ],
      "metadata": {
        "colab": {
          "base_uri": "https://localhost:8080/"
        },
        "id": "URu1W6WZ98H8",
        "outputId": "581a17ff-162e-48da-ea7a-71513e265295"
      },
      "execution_count": 46,
      "outputs": [
        {
          "output_type": "stream",
          "name": "stdout",
          "text": [
            "5x5 array with random floats between 0 and 10:\n",
            " [[3.26066636 1.32997362 1.23383829 5.27075981 8.60240721]\n",
            " [6.67641675 7.64180254 9.31372773 7.22575226 3.69943473]\n",
            " [3.39173875 0.67053019 1.46117327 9.32071655 2.12958104]\n",
            " [1.31515727 7.68753073 0.24218956 3.42717692 4.01154742]\n",
            " [6.94319673 1.23503813 7.62603376 3.30819075 8.19892574]]\n"
          ]
        }
      ]
    },
    {
      "cell_type": "code",
      "source": [
        "#Vertically stack two arrays: a = [[1, 2], [3, 4]] and b = [[5, 6], [7, 8]].\n",
        "\n",
        "a = np.array([[1, 2], [3, 4]])\n",
        "b = np.array([[5, 6], [7, 8]])\n",
        "\n",
        "stacked_array = np.vstack((a, b))\n",
        "\n",
        "print(\"Vertically stacked array:\\n\", stacked_array)"
      ],
      "metadata": {
        "colab": {
          "base_uri": "https://localhost:8080/"
        },
        "id": "-Q5qAbHZ-Hp3",
        "outputId": "1156be78-8cf2-4e3c-d8c3-13991c72c7bf"
      },
      "execution_count": 47,
      "outputs": [
        {
          "output_type": "stream",
          "name": "stdout",
          "text": [
            "Vertically stacked array:\n",
            " [[1 2]\n",
            " [3 4]\n",
            " [5 6]\n",
            " [7 8]]\n"
          ]
        }
      ]
    },
    {
      "cell_type": "code",
      "source": [
        "#Horizontally stack two arrays: a = [[1, 2], [3, 4]] and b = [[5, 6], [7, 8]].\n",
        "\n",
        "a = np.array([[1, 2], [3, 4]])\n",
        "b = np.array([[5, 6], [7, 8]])\n",
        "\n",
        "stacked_array = np.hstack((a, b))\n",
        "\n",
        "print(\"Horizontally stacked array:\\n\", stacked_array)"
      ],
      "metadata": {
        "colab": {
          "base_uri": "https://localhost:8080/"
        },
        "id": "gbKgyJGo-QcC",
        "outputId": "27ae5ee7-0f04-4fa6-aad7-caf78218a023"
      },
      "execution_count": 48,
      "outputs": [
        {
          "output_type": "stream",
          "name": "stdout",
          "text": [
            "Horizontally stacked array:\n",
            " [[1 2 5 6]\n",
            " [3 4 7 8]]\n"
          ]
        }
      ]
    },
    {
      "cell_type": "code",
      "source": [
        "#Concatenate two 1D arrays: a = [1, 2, 3] and b = [4, 5, 6].\n",
        "\n",
        "a = np.array([1, 2, 3])\n",
        "b = np.array([4, 5, 6])\n",
        "\n",
        "concatenated_array = np.concatenate((a, b))\n",
        "\n",
        "print(\"Concatenated array:\\n\", concatenated_array)"
      ],
      "metadata": {
        "colab": {
          "base_uri": "https://localhost:8080/"
        },
        "id": "jn6pqxe9-arD",
        "outputId": "c33f4c21-76a5-4c21-c662-e7c9d4a01724"
      },
      "execution_count": 49,
      "outputs": [
        {
          "output_type": "stream",
          "name": "stdout",
          "text": [
            "Concatenated array:\n",
            " [1 2 3 4 5 6]\n"
          ]
        }
      ]
    },
    {
      "cell_type": "code",
      "source": [
        "#Concatenate two 3x3 arrays along rows: a = [[1, 2, 3], [4, 5, 6], [7, 8, 9]] and b = [[10, 11, 12], [13, 14, 15], [16, 17, 18]].\n",
        "\n",
        "a = np.array([[1, 2, 3], [4, 5, 6], [7, 8, 9]])\n",
        "b = np.array([[10, 11, 12], [13, 14, 15], [16, 17, 18]])\n",
        "\n",
        "concatenated_array = np.vstack((a, b))\n",
        "\n",
        "print(\"Concatenated array along rows:\\n\", concatenated_array)"
      ],
      "metadata": {
        "colab": {
          "base_uri": "https://localhost:8080/"
        },
        "id": "1sK8ULIa-iMG",
        "outputId": "4d9fdf6c-c653-4dc6-bdc1-81edc8b0d62b"
      },
      "execution_count": 50,
      "outputs": [
        {
          "output_type": "stream",
          "name": "stdout",
          "text": [
            "Concatenated array along rows:\n",
            " [[ 1  2  3]\n",
            " [ 4  5  6]\n",
            " [ 7  8  9]\n",
            " [10 11 12]\n",
            " [13 14 15]\n",
            " [16 17 18]]\n"
          ]
        }
      ]
    },
    {
      "cell_type": "code",
      "source": [
        "#Concatenate two 3x3 arrays along columns: a = [[1, 2, 3], [4, 5, 6], [7, 8, 9]] and b = [[10, 11, 12], [13, 14, 15], [16, 17, 18]].\n",
        "\n",
        "a = np.array([[1, 2, 3], [4, 5, 6], [7, 8, 9]])\n",
        "b = np.array([[10, 11, 12], [13, 14, 15], [16, 17, 18]])\n",
        "\n",
        "concatenated_array = np.hstack((a, b))\n",
        "\n",
        "print(\"Concatenated array along columns:\\n\", concatenated_array)"
      ],
      "metadata": {
        "colab": {
          "base_uri": "https://localhost:8080/"
        },
        "id": "a_zbX9oU-vt6",
        "outputId": "37ff2828-fb51-4920-c3e5-c41a4b787a14"
      },
      "execution_count": 51,
      "outputs": [
        {
          "output_type": "stream",
          "name": "stdout",
          "text": [
            "Concatenated array along columns:\n",
            " [[ 1  2  3 10 11 12]\n",
            " [ 4  5  6 13 14 15]\n",
            " [ 7  8  9 16 17 18]]\n"
          ]
        }
      ]
    }
  ]
}